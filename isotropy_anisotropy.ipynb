{
  "nbformat": 4,
  "nbformat_minor": 0,
  "metadata": {
    "colab": {
      "name": "isotropy-anisotropy.ipynb",
      "provenance": [],
      "authorship_tag": "ABX9TyN7+iKhltthvYOiwQkVoz7b",
      "include_colab_link": true
    },
    "kernelspec": {
      "name": "python3",
      "display_name": "Python 3"
    }
  },
  "cells": [
    {
      "cell_type": "markdown",
      "metadata": {
        "id": "view-in-github",
        "colab_type": "text"
      },
      "source": [
        "<a href=\"https://colab.research.google.com/github/yohanesnuwara/mem/blob/master/isotropy_anisotropy.ipynb\" target=\"_parent\"><img src=\"https://colab.research.google.com/assets/colab-badge.svg\" alt=\"Open In Colab\"/></a>"
      ]
    },
    {
      "cell_type": "code",
      "metadata": {
        "id": "YwnI4S29FQ8e",
        "colab_type": "code",
        "colab": {}
      },
      "source": [
        "import numpy as np"
      ],
      "execution_count": 0,
      "outputs": []
    },
    {
      "cell_type": "markdown",
      "metadata": {
        "id": "GbSa24AdznUo",
        "colab_type": "text"
      },
      "source": [
        "# Isotropic"
      ]
    },
    {
      "cell_type": "code",
      "metadata": {
        "id": "3QkuUOS7-Udh",
        "colab_type": "code",
        "outputId": "4422bc54-b972-47db-991e-4cdc7ccff069",
        "colab": {
          "base_uri": "https://localhost:8080/",
          "height": 301
        }
      },
      "source": [
        "Vp = 2000 # m/s\n",
        "Vs = 1000\n",
        "rho = 2000 # kg/m3\n",
        "\n",
        "C33 = (rho * (Vp)**2) * (1E-09) # GPa\n",
        "C44 = (rho * (Vs)**2) * (1E-09) # GPa\n",
        "\n",
        "C11 = C33\n",
        "C12 = C33 - 2 * C44\n",
        "C13 = C33 - 2 * C44\n",
        "C22 = C33\n",
        "C23 = C33 - 2 * C44\n",
        "C55 = C66 = C44\n",
        "C_matrix = np.array([[C11,  C12,  C13,    0,    0,    0],\n",
        "                     [0,    C22,  C23,    0,    0,    0],\n",
        "                     [0,    0,    C33,    0,    0,    0],\n",
        "                     [0,    0,      0,  C44,    0,    0],\n",
        "                     [0,    0,      0,    0,  C55,    0],\n",
        "                     [0,    0,      0,    0,    0,  C66]])\n",
        "C_inv = np.linalg.inv(C_matrix)\n",
        "print('C33:', C33, 'GPa, and C44:', C44, 'GPa \\n')\n",
        "print('Isotropic elastic stiffness tensor:')\n",
        "print(C_matrix, '\\n')\n",
        "print('Compliance tensor (in GPa):')\n",
        "print(C_inv)"
      ],
      "execution_count": 0,
      "outputs": [
        {
          "output_type": "stream",
          "text": [
            "C33: 8.0 GPa, and C44: 2.0 GPa \n",
            "\n",
            "Isotropic elastic stiffness tensor:\n",
            "[[8. 4. 4. 0. 0. 0.]\n",
            " [0. 8. 4. 0. 0. 0.]\n",
            " [0. 0. 8. 0. 0. 0.]\n",
            " [0. 0. 0. 2. 0. 0.]\n",
            " [0. 0. 0. 0. 2. 0.]\n",
            " [0. 0. 0. 0. 0. 2.]] \n",
            "\n",
            "Compliance tensor (in GPa):\n",
            "[[ 0.125   -0.0625  -0.03125  0.       0.       0.     ]\n",
            " [ 0.       0.125   -0.0625   0.       0.       0.     ]\n",
            " [ 0.       0.       0.125    0.       0.       0.     ]\n",
            " [ 0.       0.       0.       0.5      0.       0.     ]\n",
            " [ 0.       0.       0.       0.       0.5      0.     ]\n",
            " [ 0.       0.       0.       0.       0.       0.5    ]]\n"
          ],
          "name": "stdout"
        }
      ]
    },
    {
      "cell_type": "code",
      "metadata": {
        "id": "rogAVMdqKehR",
        "colab_type": "code",
        "outputId": "868d6e07-d095-4739-ee14-120f4198fbc5",
        "colab": {
          "base_uri": "https://localhost:8080/",
          "height": 117
        }
      },
      "source": [
        "sigma_xx = 5000\n",
        "sigma_yy = 15000\n",
        "sigma_zz = 10000\n",
        "stress_matrix = np.array([[sigma_xx],\n",
        "                          [sigma_yy],\n",
        "                          [sigma_zz],\n",
        "                          [0],\n",
        "                          [0],\n",
        "                          [0]])\n",
        "strain_matrix = np.dot((C_inv / 145000), stress_matrix)\n",
        "strain_matrix"
      ],
      "execution_count": 0,
      "outputs": [
        {
          "output_type": "execute_result",
          "data": {
            "text/plain": [
              "array([[-0.00431034],\n",
              "       [ 0.00862069],\n",
              "       [ 0.00862069],\n",
              "       [ 0.        ],\n",
              "       [ 0.        ],\n",
              "       [ 0.        ]])"
            ]
          },
          "metadata": {
            "tags": []
          },
          "execution_count": 30
        }
      ]
    },
    {
      "cell_type": "markdown",
      "metadata": {
        "id": "64W8eb1-zpop",
        "colab_type": "text"
      },
      "source": [
        "# Anisotropy Type VTI (Vertical Transverse Isotropy)"
      ]
    },
    {
      "cell_type": "markdown",
      "metadata": {
        "id": "YbrUn9-8keFn",
        "colab_type": "text"
      },
      "source": [
        "£££"
      ]
    },
    {
      "cell_type": "markdown",
      "metadata": {
        "id": "X8meOSVezxM0",
        "colab_type": "text"
      },
      "source": [
        "## Hudson (1981) and Cheng (1993) Crack Model"
      ]
    },
    {
      "cell_type": "code",
      "metadata": {
        "id": "vipowBf3Wnah",
        "colab_type": "code",
        "outputId": "7b8cd739-0f2a-4285-dfa7-8c8362f5aba3",
        "colab": {
          "base_uri": "https://localhost:8080/",
          "height": 33
        }
      },
      "source": [
        "Vp = 2000 # m/s\n",
        "Vs = 1000\n",
        "rho = 2000 # kg/m3\n",
        "poro = 0.15\n",
        "alpha = 0.01\n",
        "Kf = 2.24 # GPa\n",
        "Gf = 0\n",
        "\n",
        "C33_eff = (rho * (Vp)**2) * (1E-09) # GPa\n",
        "C44_eff = (rho * (Vs)**2) * (1E-09) # GPa\n",
        "print('Effective C33:', C33_eff, 'GPa, and C44:', C44_eff, 'GPa')"
      ],
      "execution_count": 0,
      "outputs": [
        {
          "output_type": "stream",
          "text": [
            "Effective C33: 8.0 GPa, and C44: 2.0 GPa\n"
          ],
          "name": "stdout"
        }
      ]
    },
    {
      "cell_type": "code",
      "metadata": {
        "id": "gnGaYwLnXkXz",
        "colab_type": "code",
        "outputId": "f7ed3d0b-77bb-4fff-fbb3-a582f6120205",
        "colab": {
          "base_uri": "https://localhost:8080/",
          "height": 84
        }
      },
      "source": [
        "from scipy.optimize import fsolve\n",
        "\n",
        "def f(y):\n",
        "  K0, G0 = y\n",
        "\n",
        "  # Hashin-Shtrikman\n",
        "  # K_HS = K0 + (poro / (((Kf - K0)**(-1)) + ((1 - poro) * ((K0 + ((4 / 3) * G0))**(-1)))))\n",
        "  # G_HS = G0 + (poro / (((Gf - G0)**(-1)) + ((2 * (1 - poro)) * ((K0 + 2 * G0) / (5 * G0 * (K0 + ((4 / 3) * G0)))))))\n",
        "\n",
        "  K_HS = K0 + (poro / ((1 / (Kf - K0)) + ((1 - poro) * ((K0 + ((4 / 3) * G0))**(-1)))))\n",
        "  G_HS = G0 + (poro / ((1 / (Gf - G0)) + ((2 * (1 - poro)) * ((K0 + 2 * G0) / (5 * G0 * (K0 + ((4 / 3) * G0)))))))\n",
        "\n",
        "  lame_lambda = K_HS - ((2 / 3) * G_HS)\n",
        "  lame_mu = G_HS\n",
        "\n",
        "  crack_dens = (3 * poro) / (4 * np.pi * alpha)\n",
        "  K = (Kf * (lame_lambda + 2 * lame_mu)) / (np.pi * alpha * (lame_lambda + lame_mu)) \n",
        "\n",
        "  # stiffness 33\n",
        "  U3 = ((4 * (lame_lambda + 2 * lame_mu)) / (3 * (lame_lambda + lame_mu))) * (1 / (1 + K))\n",
        "  C33_0 = lame_lambda + 2 * lame_mu\n",
        "  C33_1 = -(((lame_lambda + 2 * lame_mu)**2) / lame_mu) * crack_dens * U3\n",
        "\n",
        "  # stiffness 44\n",
        "  U1 = ((16 * (lame_lambda + 2 * lame_mu)) / (3 * (3 * lame_lambda + 4 * lame_mu)))\n",
        "  C44_0 = lame_mu\n",
        "  C44_1 = -lame_mu * crack_dens * U1\n",
        "\n",
        "  # minimized function\n",
        "  f1 = C33_0 + C33_1 - C33_eff\n",
        "  f2 = C44_0 + C44_1 - C44_eff\n",
        "\n",
        "  return[f1, f2]\n",
        "\n",
        "solve = fsolve(f, [1, 1]) # initial guess\n",
        "solve"
      ],
      "execution_count": 0,
      "outputs": [
        {
          "output_type": "stream",
          "text": [
            "/usr/local/lib/python3.6/dist-packages/scipy/optimize/minpack.py:162: RuntimeWarning: The iteration is not making good progress, as measured by the \n",
            "  improvement from the last five Jacobian evaluations.\n",
            "  warnings.warn(msg, RuntimeWarning)\n"
          ],
          "name": "stderr"
        },
        {
          "output_type": "execute_result",
          "data": {
            "text/plain": [
              "array([2.79067876, 0.52849871])"
            ]
          },
          "metadata": {
            "tags": []
          },
          "execution_count": 47
        }
      ]
    },
    {
      "cell_type": "code",
      "metadata": {
        "id": "1s339tRdjBL1",
        "colab_type": "code",
        "outputId": "2661de26-89a3-495b-b5c9-5e895b5d1200",
        "colab": {
          "base_uri": "https://localhost:8080/",
          "height": 33
        }
      },
      "source": [
        "K0 = 5\n",
        "G0 = 2\n",
        "alpha = 0.05\n",
        "\n",
        "A = 1 / (Kf - K0)\n",
        "B = 1 / (Gf - G0)\n",
        "C = 1 - poro\n",
        "D = 1 / (K0 + ((4/3) * G0))\n",
        "E = (K0 + 2 * G0) / (5 * G0 * (K0 + ((4/3) * G0)))\n",
        "\n",
        "K_HS = K0 + (poro / (A + C * D))\n",
        "G_HS = G0 + (poro / (B + (2 * C) * E))\n",
        "\n",
        "lame_lambda = K_HS - ((2 / 3) * G_HS)\n",
        "lame_mu = G_HS\n",
        "\n",
        "crack_dens = (3 * poro) / (4 * np.pi * alpha)\n",
        "K = (Kf * (lame_lambda + 2 * lame_mu)) / (np.pi * alpha * (lame_lambda + lame_mu)) \n",
        "\n",
        "# stiffness 33\n",
        "U3 = ((4 * (lame_lambda + 2 * lame_mu)) / (3 * (lame_lambda + lame_mu))) * (1 / (1 + K))\n",
        "C33_0 = lame_lambda + 2 * lame_mu\n",
        "C33_1 = -(((lame_lambda + 2 * lame_mu)**2) / lame_mu) * crack_dens * U3\n",
        "\n",
        "# stiffness 44\n",
        "U1 = (16 * (lame_lambda + (2 * lame_mu))) / (3 * ((3 * lame_lambda) + (4 * lame_mu)))\n",
        "C44_0 = lame_mu\n",
        "C44_1 = -(lame_mu) * crack_dens * U1\n",
        "\n",
        "C33_eff = C33_0 + C33_1\n",
        "C44_eff = C44_0 + C44_1\n",
        "C33_eff, C44_eff"
      ],
      "execution_count": 0,
      "outputs": [
        {
          "output_type": "execute_result",
          "data": {
            "text/plain": [
              "(4.667468049182462, -0.7638178328023273)"
            ]
          },
          "metadata": {
            "tags": []
          },
          "execution_count": 3
        }
      ]
    },
    {
      "cell_type": "code",
      "metadata": {
        "id": "5rTyka99j6UA",
        "colab_type": "code",
        "outputId": "03fe931c-ee7a-47fd-beac-2abd4deb9619",
        "colab": {
          "base_uri": "https://localhost:8080/",
          "height": 33
        }
      },
      "source": [
        "lame_lambda, lame_mu, U1"
      ],
      "execution_count": 0,
      "outputs": [
        {
          "output_type": "execute_result",
          "data": {
            "text/plain": [
              "(3.4029758205888525, 1.5007235890014472, 2.10691451232897)"
            ]
          },
          "metadata": {
            "tags": []
          },
          "execution_count": 4
        }
      ]
    },
    {
      "cell_type": "code",
      "metadata": {
        "id": "SrFh2G9fQjex",
        "colab_type": "code",
        "outputId": "246f02b6-317f-4294-9902-6515ba3f2389",
        "colab": {
          "base_uri": "https://localhost:8080/",
          "height": 33
        }
      },
      "source": [
        "# second order correction\n",
        "q = 15 * (lame_lambda**2 / lame_mu**2) + 15 * (lame_lambda / lame_mu) + 28\n",
        "\n",
        "C33_2 = (q * (lame_lambda + 2 * lame_mu) * ((crack_dens * U3)**2)) / 15\n",
        "C44_2 = (2 * lame_mu * (3 * lame_lambda + 8 * lame_mu) * ((crack_dens * U1)**2)) / 15\n",
        "\n",
        "# effective moduli with Cheng's (1993) Pade approximation\n",
        "def Pade(Cij_0, Cij_1, Cij_2):\n",
        "  b = Cij_2 / (Cij_1 * crack_dens)\n",
        "  a = (Cij_1 / (Cij_0 * crack_dens)) - 1\n",
        "  Cij_eff = Cij_0 * ((1 - a * crack_dens) / (1 + b * crack_dens))\n",
        "  return(Cij_eff)\n",
        "\n",
        "C33_eff = Pade(C33_0, C33_1, C33_2)\n",
        "C44_eff = Pade(C44_0, C44_1, C44_2)\n",
        "C33_eff, C44_eff "
      ],
      "execution_count": 0,
      "outputs": [
        {
          "output_type": "execute_result",
          "data": {
            "text/plain": [
              "(14.768262774063851, -1.3950359797123446)"
            ]
          },
          "metadata": {
            "tags": []
          },
          "execution_count": 7
        }
      ]
    },
    {
      "cell_type": "code",
      "metadata": {
        "id": "ZmNjcFzZmRoj",
        "colab_type": "code",
        "outputId": "3b01b6e7-ec7a-4079-a063-19f10231c8f7",
        "colab": {
          "base_uri": "https://localhost:8080/",
          "height": 33
        }
      },
      "source": [
        "K_HS, G_HS"
      ],
      "execution_count": 0,
      "outputs": [
        {
          "output_type": "execute_result",
          "data": {
            "text/plain": [
              "(3.685607349438585, 2.934010152284264)"
            ]
          },
          "metadata": {
            "tags": []
          },
          "execution_count": 64
        }
      ]
    },
    {
      "cell_type": "code",
      "metadata": {
        "id": "1nwvJpU1FesW",
        "colab_type": "code",
        "outputId": "f725c524-501f-4b90-b353-c4edc3c6ed66",
        "colab": {
          "base_uri": "https://localhost:8080/",
          "height": 33
        }
      },
      "source": [
        "(3 * 0.15) / (4 * 3.14 * 0.01)"
      ],
      "execution_count": 0,
      "outputs": [
        {
          "output_type": "execute_result",
          "data": {
            "text/plain": [
              "3.5828025477707"
            ]
          },
          "metadata": {
            "tags": []
          },
          "execution_count": 75
        }
      ]
    },
    {
      "cell_type": "code",
      "metadata": {
        "id": "UgeAe2O3F1DN",
        "colab_type": "code",
        "outputId": "23adbea2-e421-42d7-f452-a62b1d744ab7",
        "colab": {
          "base_uri": "https://localhost:8080/",
          "height": 33
        }
      },
      "source": [
        "U1"
      ],
      "execution_count": 0,
      "outputs": [
        {
          "output_type": "execute_result",
          "data": {
            "text/plain": [
              "2.0873479686229217"
            ]
          },
          "metadata": {
            "tags": []
          },
          "execution_count": 77
        }
      ]
    },
    {
      "cell_type": "code",
      "metadata": {
        "id": "Tgb3YL6wfLgc",
        "colab_type": "code",
        "outputId": "7b1bb7ef-c04e-43a4-8ee4-c8edeff43741",
        "colab": {
          "base_uri": "https://localhost:8080/",
          "height": 33
        }
      },
      "source": [
        "a = (-2)**(-1)\n",
        "a"
      ],
      "execution_count": 0,
      "outputs": [
        {
          "output_type": "execute_result",
          "data": {
            "text/plain": [
              "-0.5"
            ]
          },
          "metadata": {
            "tags": []
          },
          "execution_count": 40
        }
      ]
    },
    {
      "cell_type": "markdown",
      "metadata": {
        "id": "ErmE3773WkkG",
        "colab_type": "text"
      },
      "source": [
        "## ***"
      ]
    },
    {
      "cell_type": "markdown",
      "metadata": {
        "id": "N40Bunmd0uut",
        "colab_type": "text"
      },
      "source": [
        "Background stiffness moduli ($C_{ij}^0$):\n",
        "\n",
        "$$C_{11}^0=C_{33}^0=\\lambda+2\\mu=\\rho V_p^2$$\n",
        "\n",
        "$$C_{44}^0=C_{66}^0=\\mu=\\rho V_s^2$$\n",
        "\n",
        "$$C_{13}^0 = C_{11}^0 - 2 C_{44}^0=\\lambda$$ \n",
        "\n",
        "\n"
      ]
    },
    {
      "cell_type": "code",
      "metadata": {
        "id": "CdBQlLALz8BJ",
        "colab_type": "code",
        "outputId": "24f9051f-8f6d-487b-82da-fce986d31c8c",
        "colab": {
          "base_uri": "https://localhost:8080/",
          "height": 33
        }
      },
      "source": [
        "Vp = 2000 # m/s\n",
        "Vs = 1000\n",
        "rho = 2000 # kg/m3\n",
        "\n",
        "# background moduli\n",
        "C11_b = (rho * (Vp)**2) * (1E-09) # GPa\n",
        "C33_b = C11_b\n",
        "C44_b = (rho * (Vs)**2) * (1E-09) # GPa\n",
        "C66_b = C44_b\n",
        "C13_b = C11_b - 2 * C44_b\n",
        "\n",
        "print('Background moduli C11:', C11_b, 'GPa, C13:', C13_b, 'GPa, C33:', C33_b, 'GPa, C44:', C44_b, 'GPa, and C66:', C66_b, 'GPa')"
      ],
      "execution_count": 0,
      "outputs": [
        {
          "output_type": "stream",
          "text": [
            "Background moduli C11: 8.0 GPa, C13: 4.0 GPa, C33: 8.0 GPa, C44: 2.0 GPa, and C66: 2.0 GPa\n"
          ],
          "name": "stdout"
        }
      ]
    },
    {
      "cell_type": "markdown",
      "metadata": {
        "id": "aaC6yO96-8rR",
        "colab_type": "text"
      },
      "source": [
        "First order correction to stiffness moduli ($C_{ij}^1$):\n",
        "\n",
        "$$C_{11}^1=-\\frac{\\lambda^2}{\\mu} \\epsilon U_3$$\n",
        "\n",
        "$$C_{13}^1=-\\frac{\\lambda(\\lambda+2\\mu)^2}{\\mu} \\epsilon U_3$$\n",
        "\n",
        "$$C_{33}^1=-\\frac{(\\lambda+2\\mu)^2}{\\mu} \\epsilon U_3$$\n",
        "\n",
        "$$C_{44}^1=-\\mu \\epsilon U_1$$\n",
        "\n",
        "$$C_{66}^1=0$$\n",
        "\n",
        "Where $\\epsilon$ is the crack density: $\\epsilon=\\frac{3 \\phi}{4 \\pi \\alpha}$, $\\alpha$ is aspect ratio of crack ($\\alpha<0.12$)\n",
        "\n",
        "And $U$ has 2 kinds of conditions:\n",
        "\n",
        "* dry crack / dry inclusion\n",
        "\n",
        "$$U_1=\\frac{16(\\lambda+2\\mu)}{3(3\\lambda+4\\mu)}$$\n",
        "\n",
        "$$U_3=\\frac{4(\\lambda+2\\mu)}{3(3\\lambda+\\mu)}$$\n",
        "\n",
        "* \"weak\" inclusion\n",
        "\n"
      ]
    },
    {
      "cell_type": "code",
      "metadata": {
        "id": "XdzKlqaTEO0w",
        "colab_type": "code",
        "colab": {}
      },
      "source": [
        "# criteria for weak or not"
      ],
      "execution_count": 0,
      "outputs": []
    },
    {
      "cell_type": "markdown",
      "metadata": {
        "id": "Qw6_Kmu0-EKQ",
        "colab_type": "text"
      },
      "source": [
        "Effective stiffness moduli:\n",
        "\n",
        "$$C_{ij}^*=\\begin{bmatrix} C_{11}^* & C_{12}^* & C_{13}^* & 0 & 0 & 0 \\\\ C_{21}^* & C_{22}^* & C_{23}^* & 0 & 0 & 0 \\\\ C_{31}^* & C_{32}^* & C_{33}^* & 0 & 0 & 0 \\\\ 0 & 0 & 0 & C_{44}^* & 0 & 0 \\\\ 0 & 0 & 0 & 0 & C_{55}^* & 0 \\\\ 0 & 0 & 0 & 0 & 0 & C_{66}^* \\end{bmatrix}$$\n",
        "\n",
        "Where $$C_{ij}^*=C_{ij}^0+C_{ij}^1$$"
      ]
    }
  ]
}