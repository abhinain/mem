{
  "nbformat": 4,
  "nbformat_minor": 0,
  "metadata": {
    "colab": {
      "name": "mem-01-loaddata.ipynb",
      "provenance": [],
      "collapsed_sections": [
        "HKXnFFVVbEeG",
        "daB9blh79e5t"
      ],
      "authorship_tag": "ABX9TyPg2cpZyIfuTDLYYxgUvS3d",
      "include_colab_link": true
    },
    "kernelspec": {
      "name": "python3",
      "display_name": "Python 3"
    }
  },
  "cells": [
    {
      "cell_type": "markdown",
      "metadata": {
        "id": "view-in-github",
        "colab_type": "text"
      },
      "source": [
        "<a href=\"https://colab.research.google.com/github/yohanesnuwara/mem/blob/master/01_loaddata.ipynb\" target=\"_parent\"><img src=\"https://colab.research.google.com/assets/colab-badge.svg\" alt=\"Open In Colab\"/></a>"
      ]
    },
    {
      "cell_type": "markdown",
      "metadata": {
        "id": "HKXnFFVVbEeG",
        "colab_type": "text"
      },
      "source": [
        "## Load Data"
      ]
    },
    {
      "cell_type": "code",
      "metadata": {
        "id": "1QnoFXLxPCVp",
        "colab_type": "code",
        "colab": {}
      },
      "source": [
        "import numpy as np\n",
        "import matplotlib.pyplot as plt\n",
        "import pandas as pd"
      ],
      "execution_count": 0,
      "outputs": []
    },
    {
      "cell_type": "markdown",
      "metadata": {
        "id": "XqkpnyuQ8oyp",
        "colab_type": "text"
      },
      "source": [
        "Access Google Drive to get data"
      ]
    },
    {
      "cell_type": "code",
      "metadata": {
        "id": "LdWiNyoK-X2G",
        "colab_type": "code",
        "outputId": "8d284112-769c-4dc8-efff-8683b3fe5973",
        "colab": {
          "base_uri": "https://localhost:8080/",
          "height": 120
        }
      },
      "source": [
        "from google.colab import drive\n",
        "drive.mount('/content/drive')"
      ],
      "execution_count": 0,
      "outputs": [
        {
          "output_type": "stream",
          "text": [
            "Go to this URL in a browser: https://accounts.google.com/o/oauth2/auth?client_id=947318989803-6bn6qk8qdgf4n4g3pfee6491hc0brc4i.apps.googleusercontent.com&redirect_uri=urn%3aietf%3awg%3aoauth%3a2.0%3aoob&response_type=code&scope=email%20https%3a%2f%2fwww.googleapis.com%2fauth%2fdocs.test%20https%3a%2f%2fwww.googleapis.com%2fauth%2fdrive%20https%3a%2f%2fwww.googleapis.com%2fauth%2fdrive.photos.readonly%20https%3a%2f%2fwww.googleapis.com%2fauth%2fpeopleapi.readonly\n",
            "\n",
            "Enter your authorization code:\n",
            "··········\n",
            "Mounted at /content/drive\n"
          ],
          "name": "stdout"
        }
      ]
    },
    {
      "cell_type": "code",
      "metadata": {
        "id": "BlxY_mqnJyoi",
        "colab_type": "code",
        "colab": {}
      },
      "source": [
        "import sys\n",
        "sys.path.append('/content/drive/My Drive/Colab Notebooks')"
      ],
      "execution_count": 0,
      "outputs": []
    },
    {
      "cell_type": "markdown",
      "metadata": {
        "id": "YEN3-qVtLp68",
        "colab_type": "text"
      },
      "source": [
        "46 LAS files from Norne Field."
      ]
    },
    {
      "cell_type": "code",
      "metadata": {
        "id": "nZxn2BQcL7L_",
        "colab_type": "code",
        "outputId": "c76323bd-4669-4af5-f4af-e4f8c6878ee9",
        "colab": {
          "base_uri": "https://localhost:8080/",
          "height": 786
        }
      },
      "source": [
        "import glob\n",
        "import os\n",
        "\n",
        "file_path = \"/content/drive/My Drive/Colab Notebooks/well_logs\"\n",
        "read_files = glob.glob(os.path.join(file_path, \"*.las\"))\n",
        "read_files"
      ],
      "execution_count": 0,
      "outputs": [
        {
          "output_type": "execute_result",
          "data": {
            "text/plain": [
              "['/content/drive/My Drive/Colab Notebooks/well_logs/660810-B-1BH.las',\n",
              " '/content/drive/My Drive/Colab Notebooks/well_logs/660810-E-2AH.las',\n",
              " '/content/drive/My Drive/Colab Notebooks/well_logs/660810-B-1AHT2.las',\n",
              " '/content/drive/My Drive/Colab Notebooks/well_logs/660810-K-1HT2.las',\n",
              " '/content/drive/My Drive/Colab Notebooks/well_logs/660810-B-1H.las',\n",
              " '/content/drive/My Drive/Colab Notebooks/well_logs/660810-B-2H.las',\n",
              " '/content/drive/My Drive/Colab Notebooks/well_logs/660810-B-3H.las',\n",
              " '/content/drive/My Drive/Colab Notebooks/well_logs/660810-B-4AH.las',\n",
              " '/content/drive/My Drive/Colab Notebooks/well_logs/660810-B-4BH.las',\n",
              " '/content/drive/My Drive/Colab Notebooks/well_logs/660810-B-4CH.las',\n",
              " '/content/drive/My Drive/Colab Notebooks/well_logs/660810-B-4DHT2.las',\n",
              " '/content/drive/My Drive/Colab Notebooks/well_logs/660810-B-4H.las',\n",
              " '/content/drive/My Drive/Colab Notebooks/well_logs/660810-C-1H.las',\n",
              " '/content/drive/My Drive/Colab Notebooks/well_logs/660810-C-2H.las',\n",
              " '/content/drive/My Drive/Colab Notebooks/well_logs/660810-C-3H.las',\n",
              " '/content/drive/My Drive/Colab Notebooks/well_logs/660810-C-4AH.las',\n",
              " '/content/drive/My Drive/Colab Notebooks/well_logs/660810-C-4H.las',\n",
              " '/content/drive/My Drive/Colab Notebooks/well_logs/660810-D-1AH.las',\n",
              " '/content/drive/My Drive/Colab Notebooks/well_logs/660810-D-1BH.las',\n",
              " '/content/drive/My Drive/Colab Notebooks/well_logs/660810-D-1CH.las',\n",
              " '/content/drive/My Drive/Colab Notebooks/well_logs/660810-D-1H.las',\n",
              " '/content/drive/My Drive/Colab Notebooks/well_logs/660810-D-2HT2.las',\n",
              " '/content/drive/My Drive/Colab Notebooks/well_logs/660810-D-3AH.las',\n",
              " '/content/drive/My Drive/Colab Notebooks/well_logs/660810-D-3BY1HT2.las',\n",
              " '/content/drive/My Drive/Colab Notebooks/well_logs/660810-D-3BY2H.las',\n",
              " '/content/drive/My Drive/Colab Notebooks/well_logs/660810-D-3H.las',\n",
              " '/content/drive/My Drive/Colab Notebooks/well_logs/660810-D-4AH.las',\n",
              " '/content/drive/My Drive/Colab Notebooks/well_logs/660810-D-4AHT2.las',\n",
              " '/content/drive/My Drive/Colab Notebooks/well_logs/660810-D-4H.las',\n",
              " '/content/drive/My Drive/Colab Notebooks/well_logs/660810-E-1H.las',\n",
              " '/content/drive/My Drive/Colab Notebooks/well_logs/660810-E-2H.las',\n",
              " '/content/drive/My Drive/Colab Notebooks/well_logs/660810-E-3AH.las',\n",
              " '/content/drive/My Drive/Colab Notebooks/well_logs/660810-E-3AHT2.las',\n",
              " '/content/drive/My Drive/Colab Notebooks/well_logs/660810-E-3BH.las',\n",
              " '/content/drive/My Drive/Colab Notebooks/well_logs/660810-E-3CHT2.las',\n",
              " '/content/drive/My Drive/Colab Notebooks/well_logs/660810-E-3H.las',\n",
              " '/content/drive/My Drive/Colab Notebooks/well_logs/660810-E-4AH.las',\n",
              " '/content/drive/My Drive/Colab Notebooks/well_logs/660810-E-4AHT2.las',\n",
              " '/content/drive/My Drive/Colab Notebooks/well_logs/660810-E-4H.las',\n",
              " '/content/drive/My Drive/Colab Notebooks/well_logs/660810-E-4HT2.las',\n",
              " '/content/drive/My Drive/Colab Notebooks/well_logs/660810-F-1H.las',\n",
              " '/content/drive/My Drive/Colab Notebooks/well_logs/660810-F-2H.las',\n",
              " '/content/drive/My Drive/Colab Notebooks/well_logs/660810-F-3H.las',\n",
              " '/content/drive/My Drive/Colab Notebooks/well_logs/660810-F-4H.las',\n",
              " '/content/drive/My Drive/Colab Notebooks/well_logs/660810-K-1H.las',\n",
              " '/content/drive/My Drive/Colab Notebooks/well_logs/660810-K-3H.las']"
            ]
          },
          "metadata": {
            "tags": []
          },
          "execution_count": 4
        }
      ]
    },
    {
      "cell_type": "markdown",
      "metadata": {
        "id": "dL4Eop9jS1Wm",
        "colab_type": "text"
      },
      "source": [
        "Get the name of the well from the file."
      ]
    },
    {
      "cell_type": "code",
      "metadata": {
        "id": "r_sNq1evP57g",
        "colab_type": "code",
        "colab": {}
      },
      "source": [
        "well_names = []\n",
        "\n",
        "for files in read_files:\n",
        "  files = os.path.splitext(os.path.basename(files))[0]\n",
        "  well_names.append(files)"
      ],
      "execution_count": 0,
      "outputs": []
    },
    {
      "cell_type": "code",
      "metadata": {
        "id": "GlhtC0vo0psz",
        "colab_type": "code",
        "outputId": "3fe7feb1-cbcf-42fe-ffea-b45953c6ea19",
        "colab": {
          "base_uri": "https://localhost:8080/",
          "height": 786
        }
      },
      "source": [
        "well_names"
      ],
      "execution_count": 0,
      "outputs": [
        {
          "output_type": "execute_result",
          "data": {
            "text/plain": [
              "['660810-B-1BH',\n",
              " '660810-E-2AH',\n",
              " '660810-B-1AHT2',\n",
              " '660810-K-1HT2',\n",
              " '660810-B-1H',\n",
              " '660810-B-2H',\n",
              " '660810-B-3H',\n",
              " '660810-B-4AH',\n",
              " '660810-B-4BH',\n",
              " '660810-B-4CH',\n",
              " '660810-B-4DHT2',\n",
              " '660810-B-4H',\n",
              " '660810-C-1H',\n",
              " '660810-C-2H',\n",
              " '660810-C-3H',\n",
              " '660810-C-4AH',\n",
              " '660810-C-4H',\n",
              " '660810-D-1AH',\n",
              " '660810-D-1BH',\n",
              " '660810-D-1CH',\n",
              " '660810-D-1H',\n",
              " '660810-D-2HT2',\n",
              " '660810-D-3AH',\n",
              " '660810-D-3BY1HT2',\n",
              " '660810-D-3BY2H',\n",
              " '660810-D-3H',\n",
              " '660810-D-4AH',\n",
              " '660810-D-4AHT2',\n",
              " '660810-D-4H',\n",
              " '660810-E-1H',\n",
              " '660810-E-2H',\n",
              " '660810-E-3AH',\n",
              " '660810-E-3AHT2',\n",
              " '660810-E-3BH',\n",
              " '660810-E-3CHT2',\n",
              " '660810-E-3H',\n",
              " '660810-E-4AH',\n",
              " '660810-E-4AHT2',\n",
              " '660810-E-4H',\n",
              " '660810-E-4HT2',\n",
              " '660810-F-1H',\n",
              " '660810-F-2H',\n",
              " '660810-F-3H',\n",
              " '660810-F-4H',\n",
              " '660810-K-1H',\n",
              " '660810-K-3H']"
            ]
          },
          "metadata": {
            "tags": []
          },
          "execution_count": 6
        }
      ]
    },
    {
      "cell_type": "markdown",
      "metadata": {
        "id": "Dsob71wW9DkT",
        "colab_type": "text"
      },
      "source": [
        "If the well name too long, shorten it by renaming it."
      ]
    },
    {
      "cell_type": "code",
      "metadata": {
        "id": "n739AJgA1YuL",
        "colab_type": "code",
        "colab": {}
      },
      "source": [
        "well_names = np.array(well_names)\n",
        "wellnames = np.array(['B1BH', 'E2AH', 'B1AHT2', 'K1HT2',\n",
        "                      'B1H', 'B2H', 'B3H', 'B4AH',\n",
        "                      'B4BH', 'B4CH', 'B4DHT2', 'B4H',\n",
        "                      'C1H', 'C2H', 'C3H', 'C4AH',\n",
        "                      'C4H', 'D1AH', 'D1BH', 'D1CH',\n",
        "                      'D1H', 'D2HT2', 'D3AH', 'D3BY1HT2',\n",
        "                      'D3BY2H', 'D3H', 'D4AH', 'D4AHT2',\n",
        "                      'D4H', 'E1H', 'E2H', 'E3AH',\n",
        "                      'E3AHT2', 'E3BH', 'E3CHT2','E3H',\n",
        "                      'E4AH', 'E4AHT2', 'E4H','E4HT2',\n",
        "                      'F1H', 'F2H', 'F3H', \n",
        "                      'F4H','K1H', 'K3H'])"
      ],
      "execution_count": 0,
      "outputs": []
    },
    {
      "cell_type": "markdown",
      "metadata": {
        "id": "m_JgY_dkS3ex",
        "colab_type": "text"
      },
      "source": [
        "Import `lasio` library to import LAS data"
      ]
    },
    {
      "cell_type": "code",
      "metadata": {
        "id": "UGS5OIAr6DnQ",
        "colab_type": "code",
        "outputId": "ab7ef0c6-adaa-440e-b84f-ae49cc56b3a6",
        "colab": {
          "base_uri": "https://localhost:8080/",
          "height": 100
        }
      },
      "source": [
        "!pip install lasio"
      ],
      "execution_count": 0,
      "outputs": [
        {
          "output_type": "stream",
          "text": [
            "Collecting lasio\n",
            "  Downloading https://files.pythonhosted.org/packages/94/fa/b06aa199d8eaf85a8e6d417021d2aeff9b5c59c92c9a669046408b211bc9/lasio-0.24.1-py3-none-any.whl\n",
            "Requirement already satisfied: numpy in /usr/local/lib/python3.6/dist-packages (from lasio) (1.17.5)\n",
            "Installing collected packages: lasio\n",
            "Successfully installed lasio-0.24.1\n"
          ],
          "name": "stdout"
        }
      ]
    },
    {
      "cell_type": "code",
      "metadata": {
        "id": "QpCVaGzA6LFw",
        "colab_type": "code",
        "colab": {}
      },
      "source": [
        "import lasio"
      ],
      "execution_count": 0,
      "outputs": []
    },
    {
      "cell_type": "markdown",
      "metadata": {
        "id": "7djniJd79P3M",
        "colab_type": "text"
      },
      "source": [
        "Read LAS file (if command: `Header section Parameter regexp=~P was not found.`, it's OK)"
      ]
    },
    {
      "cell_type": "code",
      "metadata": {
        "id": "Q3RJncmx7DZF",
        "colab_type": "code",
        "outputId": "0f07a15b-fbc3-4821-ee21-8d50989318df",
        "colab": {
          "base_uri": "https://localhost:8080/",
          "height": 786
        }
      },
      "source": [
        "lases = []\n",
        "\n",
        "for files in read_files:\n",
        "    las = lasio.read(files)\n",
        "    lases.append(las)"
      ],
      "execution_count": 0,
      "outputs": [
        {
          "output_type": "stream",
          "text": [
            "Header section Parameter regexp=~P was not found.\n",
            "Header section Parameter regexp=~P was not found.\n",
            "Header section Parameter regexp=~P was not found.\n",
            "Header section Parameter regexp=~P was not found.\n",
            "Header section Parameter regexp=~P was not found.\n",
            "Header section Parameter regexp=~P was not found.\n",
            "Header section Parameter regexp=~P was not found.\n",
            "Header section Parameter regexp=~P was not found.\n",
            "Header section Parameter regexp=~P was not found.\n",
            "Header section Parameter regexp=~P was not found.\n",
            "Header section Parameter regexp=~P was not found.\n",
            "Header section Parameter regexp=~P was not found.\n",
            "Header section Parameter regexp=~P was not found.\n",
            "Header section Parameter regexp=~P was not found.\n",
            "Header section Parameter regexp=~P was not found.\n",
            "Header section Parameter regexp=~P was not found.\n",
            "Header section Parameter regexp=~P was not found.\n",
            "Header section Parameter regexp=~P was not found.\n",
            "Header section Parameter regexp=~P was not found.\n",
            "Header section Parameter regexp=~P was not found.\n",
            "Header section Parameter regexp=~P was not found.\n",
            "Header section Parameter regexp=~P was not found.\n",
            "Header section Parameter regexp=~P was not found.\n",
            "Header section Parameter regexp=~P was not found.\n",
            "Header section Parameter regexp=~P was not found.\n",
            "Header section Parameter regexp=~P was not found.\n",
            "Header section Parameter regexp=~P was not found.\n",
            "Header section Parameter regexp=~P was not found.\n",
            "Header section Parameter regexp=~P was not found.\n",
            "Header section Parameter regexp=~P was not found.\n",
            "Header section Parameter regexp=~P was not found.\n",
            "Header section Parameter regexp=~P was not found.\n",
            "Header section Parameter regexp=~P was not found.\n",
            "Header section Parameter regexp=~P was not found.\n",
            "Header section Parameter regexp=~P was not found.\n",
            "Header section Parameter regexp=~P was not found.\n",
            "Header section Parameter regexp=~P was not found.\n",
            "Header section Parameter regexp=~P was not found.\n",
            "Header section Parameter regexp=~P was not found.\n",
            "Header section Parameter regexp=~P was not found.\n",
            "Header section Parameter regexp=~P was not found.\n",
            "Header section Parameter regexp=~P was not found.\n",
            "Header section Parameter regexp=~P was not found.\n",
            "Header section Parameter regexp=~P was not found.\n",
            "Header section Parameter regexp=~P was not found.\n",
            "Header section Parameter regexp=~P was not found.\n"
          ],
          "name": "stderr"
        }
      ]
    },
    {
      "cell_type": "markdown",
      "metadata": {
        "id": "daB9blh79e5t",
        "colab_type": "text"
      },
      "source": [
        "## Well catalogue\n",
        "Input the name of the well you want to view in the `find` and check what data is present."
      ]
    },
    {
      "cell_type": "code",
      "metadata": {
        "id": "TMK7YG7gBiL7",
        "colab_type": "code",
        "outputId": "b6ededaa-5353-45fd-f24d-684164612901",
        "colab": {
          "base_uri": "https://localhost:8080/",
          "height": 117
        }
      },
      "source": [
        "wellnames"
      ],
      "execution_count": 0,
      "outputs": [
        {
          "output_type": "execute_result",
          "data": {
            "text/plain": [
              "array(['B1BH', 'E2AH', 'B1AHT2', 'K1HT2', 'B1H', 'B2H', 'B3H', 'B4AH',\n",
              "       'B4BH', 'B4CH', 'B4DHT2', 'B4H', 'C1H', 'C2H', 'C3H', 'C4AH',\n",
              "       'C4H', 'D1AH', 'D1BH', 'D1CH', 'D1H', 'D2HT2', 'D3AH', 'D3BY1HT2',\n",
              "       'D3BY2H', 'D3H', 'D4AH', 'D4AHT2', 'D4H', 'E1H', 'E2H', 'E3AH',\n",
              "       'E3AHT2', 'E3BH', 'E3CHT2', 'E3H', 'E4AH', 'E4AHT2', 'E4H',\n",
              "       'E4HT2', 'F1H', 'F2H', 'F3H', 'F4H', 'K1H', 'K3H'], dtype='<U8')"
            ]
          },
          "metadata": {
            "tags": []
          },
          "execution_count": 11
        }
      ]
    },
    {
      "cell_type": "code",
      "metadata": {
        "id": "MMKBeKOp4Rqo",
        "colab_type": "code",
        "outputId": "138eee2c-166e-4c28-8e72-d4d74a16cc19",
        "colab": {
          "base_uri": "https://localhost:8080/",
          "height": 268
        }
      },
      "source": [
        "# type the numbers from 0 to 45 in the wellames[...]\n",
        "find = wellnames[0]\n",
        "# print the name of the searched well\n",
        "print(\"Well name:\", find)\n",
        "id_ = np.int64(np.where(wellnames==find)).item()\n",
        "print(\"Data available:\", lases[id_].keys())\n",
        "# check more details\n",
        "print(\"Detail about data:\")\n",
        "print(lases[id_].curves)"
      ],
      "execution_count": 0,
      "outputs": [
        {
          "output_type": "stream",
          "text": [
            "Well name: B1BH\n",
            "Data available: ['DEPTH', 'TVD', 'TVDSS', 'GR', 'KLOGH', 'NPHI', 'PHIF', 'RHOB', 'SW', 'VSH']\n",
            "Detail about data:\n",
            "Mnemonic  Unit         Value    Description                            \n",
            "--------  ----         -----    -----------                            \n",
            "DEPTH     M                     Measured Depth                         \n",
            "TVD       M                     True Vertical Depth (TVD)              \n",
            "TVDSS     M                     True Vertical Depth (TVDSS)            \n",
            "GR        API          UNKNOWN  GR:UNKNOWN:rC::v0 (auto-composite)     \n",
            "KLOGH     mD           UNKNOWN  KLOGH:UNKNOWN:rC::v0 (auto-composite)  \n",
            "NPHI      v/v_decimal  UNKNOWN  NPHI:UNKNOWN:rC::v0 (auto-composite)   \n",
            "PHIF      v/v_decimal  UNKNOWN  PHIF:UNKNOWN:rC::v0 (auto-composite)   \n",
            "RHOB      g/cm3        UNKNOWN  RHOB:UNKNOWN:rC::v0 (auto-composite)   \n",
            "SW        v/v_decimal  UNKNOWN  SW:UNKNOWN:rC::v0 (auto-composite)     \n",
            "VSH       v/v_decimal  UNKNOWN  VSH:UNKNOWN:rC::v0 (auto-composite)    \n"
          ],
          "name": "stdout"
        }
      ]
    },
    {
      "cell_type": "code",
      "metadata": {
        "id": "MvPgYnQUW9rG",
        "colab_type": "code",
        "outputId": "61cf1671-063d-44b8-dc6b-c437499ca721",
        "colab": {
          "base_uri": "https://localhost:8080/",
          "height": 622
        }
      },
      "source": [
        "# peek or overviewing the well log\n",
        "\n",
        "# which data you want to see\n",
        "data_view = 'RHOB'\n",
        "\n",
        "print(\"Data\", data_view, \"of well:\", find)\n",
        "\n",
        "plt.figure(figsize=(5,10))\n",
        "plt.plot((lases[id_][data_view]), (lases[id_]['DEPTH']))\n",
        "plt.xlabel(data_view); plt.ylabel(\"Depth (m)\")\n",
        "plt.grid(True)\n",
        "plt.gca().invert_yaxis()"
      ],
      "execution_count": 0,
      "outputs": [
        {
          "output_type": "stream",
          "text": [
            "Data RHOB of well: B1BH\n"
          ],
          "name": "stdout"
        },
        {
          "output_type": "display_data",
          "data": {
            "image/png": "[encoded data removed]",
            "text/plain": [
              "<Figure size 360x720 with 1 Axes>"
            ]
          },
          "metadata": {
            "tags": []
          }
        }
      ]
    }
  ]
}