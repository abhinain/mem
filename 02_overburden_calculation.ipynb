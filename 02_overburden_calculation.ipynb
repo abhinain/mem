{
  "nbformat": 4,
  "nbformat_minor": 0,
  "metadata": {
    "colab": {
      "name": "mem-02-overburden-calculation.ipynb",
      "provenance": [],
      "collapsed_sections": [
        "HKXnFFVVbEeG",
        "daB9blh79e5t",
        "1KEqp4-zrB28",
        "mwRjHzi67E_N"
      ],
      "include_colab_link": true
    },
    "kernelspec": {
      "name": "python3",
      "display_name": "Python 3"
    },
    "accelerator": "GPU"
  },
  "cells": [
    {
      "cell_type": "markdown",
      "metadata": {
        "id": "view-in-github",
        "colab_type": "text"
      },
      "source": [
        "<a href=\"https://colab.research.google.com/github/yohanesnuwara/mem/blob/master/02_overburden_calculation.ipynb\" target=\"_parent\"><img src=\"https://colab.research.google.com/assets/colab-badge.svg\" alt=\"Open In Colab\"/></a>"
      ]
    },
    {
      "cell_type": "markdown",
      "metadata": {
        "id": "HKXnFFVVbEeG",
        "colab_type": "text"
      },
      "source": [
        "## Load Data"
      ]
    },
    {
      "cell_type": "code",
      "metadata": {
        "id": "1QnoFXLxPCVp",
        "colab_type": "code",
        "colab": {}
      },
      "source": [
        "import numpy as np\n",
        "import matplotlib.pyplot as plt\n",
        "import pandas as pd"
      ],
      "execution_count": 0,
      "outputs": []
    },
    {
      "cell_type": "markdown",
      "metadata": {
        "id": "XqkpnyuQ8oyp",
        "colab_type": "text"
      },
      "source": [
        "Access Google Drive to get data"
      ]
    },
    {
      "cell_type": "code",
      "metadata": {
        "id": "LdWiNyoK-X2G",
        "colab_type": "code",
        "outputId": "8d284112-769c-4dc8-efff-8683b3fe5973",
        "colab": {
          "base_uri": "https://localhost:8080/",
          "height": 120
        }
      },
      "source": [
        "from google.colab import drive\n",
        "drive.mount('/content/drive')"
      ],
      "execution_count": 2,
      "outputs": [
        {
          "output_type": "stream",
          "text": [
            "Go to this URL in a browser: https://accounts.google.com/o/oauth2/auth?client_id=947318989803-6bn6qk8qdgf4n4g3pfee6491hc0brc4i.apps.googleusercontent.com&redirect_uri=urn%3aietf%3awg%3aoauth%3a2.0%3aoob&response_type=code&scope=email%20https%3a%2f%2fwww.googleapis.com%2fauth%2fdocs.test%20https%3a%2f%2fwww.googleapis.com%2fauth%2fdrive%20https%3a%2f%2fwww.googleapis.com%2fauth%2fdrive.photos.readonly%20https%3a%2f%2fwww.googleapis.com%2fauth%2fpeopleapi.readonly\n",
            "\n",
            "Enter your authorization code:\n",
            "··········\n",
            "Mounted at /content/drive\n"
          ],
          "name": "stdout"
        }
      ]
    },
    {
      "cell_type": "code",
      "metadata": {
        "id": "BlxY_mqnJyoi",
        "colab_type": "code",
        "colab": {}
      },
      "source": [
        "import sys\n",
        "sys.path.append('/content/drive/My Drive/Colab Notebooks')"
      ],
      "execution_count": 0,
      "outputs": []
    },
    {
      "cell_type": "markdown",
      "metadata": {
        "id": "YEN3-qVtLp68",
        "colab_type": "text"
      },
      "source": [
        "46 LAS files from Norne Field."
      ]
    },
    {
      "cell_type": "code",
      "metadata": {
        "id": "nZxn2BQcL7L_",
        "colab_type": "code",
        "outputId": "c76323bd-4669-4af5-f4af-e4f8c6878ee9",
        "colab": {
          "base_uri": "https://localhost:8080/",
          "height": 786
        }
      },
      "source": [
        "import glob\n",
        "import os\n",
        "\n",
        "file_path = \"/content/drive/My Drive/Colab Notebooks/well_logs\"\n",
        "read_files = glob.glob(os.path.join(file_path, \"*.las\"))\n",
        "read_files"
      ],
      "execution_count": 4,
      "outputs": [
        {
          "output_type": "execute_result",
          "data": {
            "text/plain": [
              "['/content/drive/My Drive/Colab Notebooks/well_logs/660810-B-1BH.las',\n",
              " '/content/drive/My Drive/Colab Notebooks/well_logs/660810-E-2AH.las',\n",
              " '/content/drive/My Drive/Colab Notebooks/well_logs/660810-B-1AHT2.las',\n",
              " '/content/drive/My Drive/Colab Notebooks/well_logs/660810-K-1HT2.las',\n",
              " '/content/drive/My Drive/Colab Notebooks/well_logs/660810-B-1H.las',\n",
              " '/content/drive/My Drive/Colab Notebooks/well_logs/660810-B-2H.las',\n",
              " '/content/drive/My Drive/Colab Notebooks/well_logs/660810-B-3H.las',\n",
              " '/content/drive/My Drive/Colab Notebooks/well_logs/660810-B-4AH.las',\n",
              " '/content/drive/My Drive/Colab Notebooks/well_logs/660810-B-4BH.las',\n",
              " '/content/drive/My Drive/Colab Notebooks/well_logs/660810-B-4CH.las',\n",
              " '/content/drive/My Drive/Colab Notebooks/well_logs/660810-B-4DHT2.las',\n",
              " '/content/drive/My Drive/Colab Notebooks/well_logs/660810-B-4H.las',\n",
              " '/content/drive/My Drive/Colab Notebooks/well_logs/660810-C-1H.las',\n",
              " '/content/drive/My Drive/Colab Notebooks/well_logs/660810-C-2H.las',\n",
              " '/content/drive/My Drive/Colab Notebooks/well_logs/660810-C-3H.las',\n",
              " '/content/drive/My Drive/Colab Notebooks/well_logs/660810-C-4AH.las',\n",
              " '/content/drive/My Drive/Colab Notebooks/well_logs/660810-C-4H.las',\n",
              " '/content/drive/My Drive/Colab Notebooks/well_logs/660810-D-1AH.las',\n",
              " '/content/drive/My Drive/Colab Notebooks/well_logs/660810-D-1BH.las',\n",
              " '/content/drive/My Drive/Colab Notebooks/well_logs/660810-D-1CH.las',\n",
              " '/content/drive/My Drive/Colab Notebooks/well_logs/660810-D-1H.las',\n",
              " '/content/drive/My Drive/Colab Notebooks/well_logs/660810-D-2HT2.las',\n",
              " '/content/drive/My Drive/Colab Notebooks/well_logs/660810-D-3AH.las',\n",
              " '/content/drive/My Drive/Colab Notebooks/well_logs/660810-D-3BY1HT2.las',\n",
              " '/content/drive/My Drive/Colab Notebooks/well_logs/660810-D-3BY2H.las',\n",
              " '/content/drive/My Drive/Colab Notebooks/well_logs/660810-D-3H.las',\n",
              " '/content/drive/My Drive/Colab Notebooks/well_logs/660810-D-4AH.las',\n",
              " '/content/drive/My Drive/Colab Notebooks/well_logs/660810-D-4AHT2.las',\n",
              " '/content/drive/My Drive/Colab Notebooks/well_logs/660810-D-4H.las',\n",
              " '/content/drive/My Drive/Colab Notebooks/well_logs/660810-E-1H.las',\n",
              " '/content/drive/My Drive/Colab Notebooks/well_logs/660810-E-2H.las',\n",
              " '/content/drive/My Drive/Colab Notebooks/well_logs/660810-E-3AH.las',\n",
              " '/content/drive/My Drive/Colab Notebooks/well_logs/660810-E-3AHT2.las',\n",
              " '/content/drive/My Drive/Colab Notebooks/well_logs/660810-E-3BH.las',\n",
              " '/content/drive/My Drive/Colab Notebooks/well_logs/660810-E-3CHT2.las',\n",
              " '/content/drive/My Drive/Colab Notebooks/well_logs/660810-E-3H.las',\n",
              " '/content/drive/My Drive/Colab Notebooks/well_logs/660810-E-4AH.las',\n",
              " '/content/drive/My Drive/Colab Notebooks/well_logs/660810-E-4AHT2.las',\n",
              " '/content/drive/My Drive/Colab Notebooks/well_logs/660810-E-4H.las',\n",
              " '/content/drive/My Drive/Colab Notebooks/well_logs/660810-E-4HT2.las',\n",
              " '/content/drive/My Drive/Colab Notebooks/well_logs/660810-F-1H.las',\n",
              " '/content/drive/My Drive/Colab Notebooks/well_logs/660810-F-2H.las',\n",
              " '/content/drive/My Drive/Colab Notebooks/well_logs/660810-F-3H.las',\n",
              " '/content/drive/My Drive/Colab Notebooks/well_logs/660810-F-4H.las',\n",
              " '/content/drive/My Drive/Colab Notebooks/well_logs/660810-K-1H.las',\n",
              " '/content/drive/My Drive/Colab Notebooks/well_logs/660810-K-3H.las']"
            ]
          },
          "metadata": {
            "tags": []
          },
          "execution_count": 4
        }
      ]
    },
    {
      "cell_type": "markdown",
      "metadata": {
        "id": "dL4Eop9jS1Wm",
        "colab_type": "text"
      },
      "source": [
        "Get the name of the well from the file."
      ]
    },
    {
      "cell_type": "code",
      "metadata": {
        "id": "r_sNq1evP57g",
        "colab_type": "code",
        "colab": {}
      },
      "source": [
        "well_names = []\n",
        "\n",
        "for files in read_files:\n",
        "  files = os.path.splitext(os.path.basename(files))[0]\n",
        "  well_names.append(files)"
      ],
      "execution_count": 0,
      "outputs": []
    },
    {
      "cell_type": "code",
      "metadata": {
        "id": "GlhtC0vo0psz",
        "colab_type": "code",
        "outputId": "3fe7feb1-cbcf-42fe-ffea-b45953c6ea19",
        "colab": {
          "base_uri": "https://localhost:8080/",
          "height": 786
        }
      },
      "source": [
        "well_names"
      ],
      "execution_count": 6,
      "outputs": [
        {
          "output_type": "execute_result",
          "data": {
            "text/plain": [
              "['660810-B-1BH',\n",
              " '660810-E-2AH',\n",
              " '660810-B-1AHT2',\n",
              " '660810-K-1HT2',\n",
              " '660810-B-1H',\n",
              " '660810-B-2H',\n",
              " '660810-B-3H',\n",
              " '660810-B-4AH',\n",
              " '660810-B-4BH',\n",
              " '660810-B-4CH',\n",
              " '660810-B-4DHT2',\n",
              " '660810-B-4H',\n",
              " '660810-C-1H',\n",
              " '660810-C-2H',\n",
              " '660810-C-3H',\n",
              " '660810-C-4AH',\n",
              " '660810-C-4H',\n",
              " '660810-D-1AH',\n",
              " '660810-D-1BH',\n",
              " '660810-D-1CH',\n",
              " '660810-D-1H',\n",
              " '660810-D-2HT2',\n",
              " '660810-D-3AH',\n",
              " '660810-D-3BY1HT2',\n",
              " '660810-D-3BY2H',\n",
              " '660810-D-3H',\n",
              " '660810-D-4AH',\n",
              " '660810-D-4AHT2',\n",
              " '660810-D-4H',\n",
              " '660810-E-1H',\n",
              " '660810-E-2H',\n",
              " '660810-E-3AH',\n",
              " '660810-E-3AHT2',\n",
              " '660810-E-3BH',\n",
              " '660810-E-3CHT2',\n",
              " '660810-E-3H',\n",
              " '660810-E-4AH',\n",
              " '660810-E-4AHT2',\n",
              " '660810-E-4H',\n",
              " '660810-E-4HT2',\n",
              " '660810-F-1H',\n",
              " '660810-F-2H',\n",
              " '660810-F-3H',\n",
              " '660810-F-4H',\n",
              " '660810-K-1H',\n",
              " '660810-K-3H']"
            ]
          },
          "metadata": {
            "tags": []
          },
          "execution_count": 6
        }
      ]
    },
    {
      "cell_type": "markdown",
      "metadata": {
        "id": "Dsob71wW9DkT",
        "colab_type": "text"
      },
      "source": [
        "If the well name too long, shorten it by renaming it."
      ]
    },
    {
      "cell_type": "code",
      "metadata": {
        "id": "n739AJgA1YuL",
        "colab_type": "code",
        "colab": {}
      },
      "source": [
        "well_names = np.array(well_names)\n",
        "wellnames = np.array(['B1BH', 'E2AH', 'B1AHT2', 'K1HT2',\n",
        "                      'B1H', 'B2H', 'B3H', 'B4AH',\n",
        "                      'B4BH', 'B4CH', 'B4DHT2', 'B4H',\n",
        "                      'C1H', 'C2H', 'C3H', 'C4AH',\n",
        "                      'C4H', 'D1AH', 'D1BH', 'D1CH',\n",
        "                      'D1H', 'D2HT2', 'D3AH', 'D3BY1HT2',\n",
        "                      'D3BY2H', 'D3H', 'D4AH', 'D4AHT2',\n",
        "                      'D4H', 'E1H', 'E2H', 'E3AH',\n",
        "                      'E3AHT2', 'E3BH', 'E3CHT2','E3H',\n",
        "                      'E4AH', 'E4AHT2', 'E4H','E4HT2',\n",
        "                      'F1H', 'F2H', 'F3H', \n",
        "                      'F4H','K1H', 'K3H'])"
      ],
      "execution_count": 0,
      "outputs": []
    },
    {
      "cell_type": "markdown",
      "metadata": {
        "id": "m_JgY_dkS3ex",
        "colab_type": "text"
      },
      "source": [
        "Import `lasio` library to import LAS data"
      ]
    },
    {
      "cell_type": "code",
      "metadata": {
        "id": "UGS5OIAr6DnQ",
        "colab_type": "code",
        "outputId": "ab7ef0c6-adaa-440e-b84f-ae49cc56b3a6",
        "colab": {
          "base_uri": "https://localhost:8080/",
          "height": 100
        }
      },
      "source": [
        "!pip install lasio"
      ],
      "execution_count": 8,
      "outputs": [
        {
          "output_type": "stream",
          "text": [
            "Collecting lasio\n",
            "  Downloading https://files.pythonhosted.org/packages/94/fa/b06aa199d8eaf85a8e6d417021d2aeff9b5c59c92c9a669046408b211bc9/lasio-0.24.1-py3-none-any.whl\n",
            "Requirement already satisfied: numpy in /usr/local/lib/python3.6/dist-packages (from lasio) (1.17.5)\n",
            "Installing collected packages: lasio\n",
            "Successfully installed lasio-0.24.1\n"
          ],
          "name": "stdout"
        }
      ]
    },
    {
      "cell_type": "code",
      "metadata": {
        "id": "QpCVaGzA6LFw",
        "colab_type": "code",
        "colab": {}
      },
      "source": [
        "import lasio"
      ],
      "execution_count": 0,
      "outputs": []
    },
    {
      "cell_type": "markdown",
      "metadata": {
        "id": "7djniJd79P3M",
        "colab_type": "text"
      },
      "source": [
        "Read LAS file (if command: `Header section Parameter regexp=~P was not found.`, it's OK)"
      ]
    },
    {
      "cell_type": "code",
      "metadata": {
        "id": "Q3RJncmx7DZF",
        "colab_type": "code",
        "outputId": "0f07a15b-fbc3-4821-ee21-8d50989318df",
        "colab": {
          "base_uri": "https://localhost:8080/",
          "height": 786
        }
      },
      "source": [
        "lases = []\n",
        "\n",
        "for files in read_files:\n",
        "    las = lasio.read(files)\n",
        "    lases.append(las)"
      ],
      "execution_count": 10,
      "outputs": [
        {
          "output_type": "stream",
          "text": [
            "Header section Parameter regexp=~P was not found.\n",
            "Header section Parameter regexp=~P was not found.\n",
            "Header section Parameter regexp=~P was not found.\n",
            "Header section Parameter regexp=~P was not found.\n",
            "Header section Parameter regexp=~P was not found.\n",
            "Header section Parameter regexp=~P was not found.\n",
            "Header section Parameter regexp=~P was not found.\n",
            "Header section Parameter regexp=~P was not found.\n",
            "Header section Parameter regexp=~P was not found.\n",
            "Header section Parameter regexp=~P was not found.\n",
            "Header section Parameter regexp=~P was not found.\n",
            "Header section Parameter regexp=~P was not found.\n",
            "Header section Parameter regexp=~P was not found.\n",
            "Header section Parameter regexp=~P was not found.\n",
            "Header section Parameter regexp=~P was not found.\n",
            "Header section Parameter regexp=~P was not found.\n",
            "Header section Parameter regexp=~P was not found.\n",
            "Header section Parameter regexp=~P was not found.\n",
            "Header section Parameter regexp=~P was not found.\n",
            "Header section Parameter regexp=~P was not found.\n",
            "Header section Parameter regexp=~P was not found.\n",
            "Header section Parameter regexp=~P was not found.\n",
            "Header section Parameter regexp=~P was not found.\n",
            "Header section Parameter regexp=~P was not found.\n",
            "Header section Parameter regexp=~P was not found.\n",
            "Header section Parameter regexp=~P was not found.\n",
            "Header section Parameter regexp=~P was not found.\n",
            "Header section Parameter regexp=~P was not found.\n",
            "Header section Parameter regexp=~P was not found.\n",
            "Header section Parameter regexp=~P was not found.\n",
            "Header section Parameter regexp=~P was not found.\n",
            "Header section Parameter regexp=~P was not found.\n",
            "Header section Parameter regexp=~P was not found.\n",
            "Header section Parameter regexp=~P was not found.\n",
            "Header section Parameter regexp=~P was not found.\n",
            "Header section Parameter regexp=~P was not found.\n",
            "Header section Parameter regexp=~P was not found.\n",
            "Header section Parameter regexp=~P was not found.\n",
            "Header section Parameter regexp=~P was not found.\n",
            "Header section Parameter regexp=~P was not found.\n",
            "Header section Parameter regexp=~P was not found.\n",
            "Header section Parameter regexp=~P was not found.\n",
            "Header section Parameter regexp=~P was not found.\n",
            "Header section Parameter regexp=~P was not found.\n",
            "Header section Parameter regexp=~P was not found.\n",
            "Header section Parameter regexp=~P was not found.\n"
          ],
          "name": "stderr"
        }
      ]
    },
    {
      "cell_type": "markdown",
      "metadata": {
        "id": "daB9blh79e5t",
        "colab_type": "text"
      },
      "source": [
        "## Well catalogue\n",
        "Input the name of the well you want to view in the `find` and check what data is present."
      ]
    },
    {
      "cell_type": "code",
      "metadata": {
        "id": "TMK7YG7gBiL7",
        "colab_type": "code",
        "outputId": "b6ededaa-5353-45fd-f24d-684164612901",
        "colab": {
          "base_uri": "https://localhost:8080/",
          "height": 117
        }
      },
      "source": [
        "wellnames"
      ],
      "execution_count": 11,
      "outputs": [
        {
          "output_type": "execute_result",
          "data": {
            "text/plain": [
              "array(['B1BH', 'E2AH', 'B1AHT2', 'K1HT2', 'B1H', 'B2H', 'B3H', 'B4AH',\n",
              "       'B4BH', 'B4CH', 'B4DHT2', 'B4H', 'C1H', 'C2H', 'C3H', 'C4AH',\n",
              "       'C4H', 'D1AH', 'D1BH', 'D1CH', 'D1H', 'D2HT2', 'D3AH', 'D3BY1HT2',\n",
              "       'D3BY2H', 'D3H', 'D4AH', 'D4AHT2', 'D4H', 'E1H', 'E2H', 'E3AH',\n",
              "       'E3AHT2', 'E3BH', 'E3CHT2', 'E3H', 'E4AH', 'E4AHT2', 'E4H',\n",
              "       'E4HT2', 'F1H', 'F2H', 'F3H', 'F4H', 'K1H', 'K3H'], dtype='<U8')"
            ]
          },
          "metadata": {
            "tags": []
          },
          "execution_count": 11
        }
      ]
    },
    {
      "cell_type": "code",
      "metadata": {
        "id": "MMKBeKOp4Rqo",
        "colab_type": "code",
        "outputId": "138eee2c-166e-4c28-8e72-d4d74a16cc19",
        "colab": {
          "base_uri": "https://localhost:8080/",
          "height": 268
        }
      },
      "source": [
        "# type the numbers from 0 to 45 in the wellames[...]\n",
        "find = wellnames[0]\n",
        "# print the name of the searched well\n",
        "print(\"Well name:\", find)\n",
        "id_ = np.int64(np.where(wellnames==find)).item()\n",
        "print(\"Data available:\", lases[id_].keys())\n",
        "# check more details\n",
        "print(\"Detail about data:\")\n",
        "print(lases[id_].curves)"
      ],
      "execution_count": 12,
      "outputs": [
        {
          "output_type": "stream",
          "text": [
            "Well name: B1BH\n",
            "Data available: ['DEPTH', 'TVD', 'TVDSS', 'GR', 'KLOGH', 'NPHI', 'PHIF', 'RHOB', 'SW', 'VSH']\n",
            "Detail about data:\n",
            "Mnemonic  Unit         Value    Description                            \n",
            "--------  ----         -----    -----------                            \n",
            "DEPTH     M                     Measured Depth                         \n",
            "TVD       M                     True Vertical Depth (TVD)              \n",
            "TVDSS     M                     True Vertical Depth (TVDSS)            \n",
            "GR        API          UNKNOWN  GR:UNKNOWN:rC::v0 (auto-composite)     \n",
            "KLOGH     mD           UNKNOWN  KLOGH:UNKNOWN:rC::v0 (auto-composite)  \n",
            "NPHI      v/v_decimal  UNKNOWN  NPHI:UNKNOWN:rC::v0 (auto-composite)   \n",
            "PHIF      v/v_decimal  UNKNOWN  PHIF:UNKNOWN:rC::v0 (auto-composite)   \n",
            "RHOB      g/cm3        UNKNOWN  RHOB:UNKNOWN:rC::v0 (auto-composite)   \n",
            "SW        v/v_decimal  UNKNOWN  SW:UNKNOWN:rC::v0 (auto-composite)     \n",
            "VSH       v/v_decimal  UNKNOWN  VSH:UNKNOWN:rC::v0 (auto-composite)    \n"
          ],
          "name": "stdout"
        }
      ]
    },
    {
      "cell_type": "code",
      "metadata": {
        "id": "MvPgYnQUW9rG",
        "colab_type": "code",
        "outputId": "61cf1671-063d-44b8-dc6b-c437499ca721",
        "colab": {
          "base_uri": "https://localhost:8080/",
          "height": 622
        }
      },
      "source": [
        "# peek or overviewing the well log\n",
        "\n",
        "# which data you want to see\n",
        "data_view = 'RHOB'\n",
        "\n",
        "print(\"Data\", data_view, \"of well:\", find)\n",
        "\n",
        "plt.figure(figsize=(5,10))\n",
        "plt.plot((lases[id_][data_view]), (lases[id_]['DEPTH']))\n",
        "plt.xlabel(data_view); plt.ylabel(\"Depth (m)\")\n",
        "plt.grid(True)\n",
        "plt.gca().invert_yaxis()"
      ],
      "execution_count": 13,
      "outputs": [
        {
          "output_type": "stream",
          "text": [
            "Data RHOB of well: B1BH\n"
          ],
          "name": "stdout"
        },
        {
          "output_type": "display_data",
          "data": {
            "image/png": "[encoded data removed]",
            "text/plain": [
              "<Figure size 360x720 with 1 Axes>"
            ]
          },
          "metadata": {
            "tags": []
          }
        }
      ]
    },
    {
      "cell_type": "markdown",
      "metadata": {
        "id": "1KEqp4-zrB28",
        "colab_type": "text"
      },
      "source": [
        "## Data Preproc\n"
      ]
    },
    {
      "cell_type": "markdown",
      "metadata": {
        "id": "89wB4LeH0JYn",
        "colab_type": "text"
      },
      "source": [
        "### Data cleanup for NaN values"
      ]
    },
    {
      "cell_type": "code",
      "metadata": {
        "id": "TXZSIwqmvGls",
        "colab_type": "code",
        "outputId": "9437af6f-078b-4c11-ae7a-4d94bc3bb690",
        "colab": {
          "base_uri": "https://localhost:8080/",
          "height": 505
        }
      },
      "source": [
        "# convert to panda\n",
        "df = pd.DataFrame({\"Depth\": (lases[id_]['DEPTH']), \"RHOB\": (lases[id_][data_view])})\n",
        "# look up the number of rows with NaN data\n",
        "print(\"Original size of data:\", len(df), \"rows\")\n",
        "print(\"How many data with NaN values?\")\n",
        "print(df.isnull().sum())\n",
        "\n",
        "# drop rows with missing values\n",
        "df.dropna(inplace=True)\n",
        "# re-index dataframe\n",
        "df = df.reset_index(drop=True)\n",
        "print(\"NaN has successfully been deleted\")\n",
        "df"
      ],
      "execution_count": 14,
      "outputs": [
        {
          "output_type": "stream",
          "text": [
            "Original size of data: 6743 rows\n",
            "How many data with NaN values?\n",
            "Depth      0\n",
            "RHOB     122\n",
            "dtype: int64\n",
            "NaN has successfully been deleted\n"
          ],
          "name": "stdout"
        },
        {
          "output_type": "execute_result",
          "data": {
            "text/html": [
              "<div>\n",
              "<style scoped>\n",
              "    .dataframe tbody tr th:only-of-type {\n",
              "        vertical-align: middle;\n",
              "    }\n",
              "\n",
              "    .dataframe tbody tr th {\n",
              "        vertical-align: top;\n",
              "    }\n",
              "\n",
              "    .dataframe thead th {\n",
              "        text-align: right;\n",
              "    }\n",
              "</style>\n",
              "<table border=\"1\" class=\"dataframe\">\n",
              "  <thead>\n",
              "    <tr style=\"text-align: right;\">\n",
              "      <th></th>\n",
              "      <th>Depth</th>\n",
              "      <th>RHOB</th>\n",
              "    </tr>\n",
              "  </thead>\n",
              "  <tbody>\n",
              "    <tr>\n",
              "      <th>0</th>\n",
              "      <td>3123.438</td>\n",
              "      <td>2.3994</td>\n",
              "    </tr>\n",
              "    <tr>\n",
              "      <th>1</th>\n",
              "      <td>3123.563</td>\n",
              "      <td>2.3916</td>\n",
              "    </tr>\n",
              "    <tr>\n",
              "      <th>2</th>\n",
              "      <td>3123.688</td>\n",
              "      <td>2.4017</td>\n",
              "    </tr>\n",
              "    <tr>\n",
              "      <th>3</th>\n",
              "      <td>3123.813</td>\n",
              "      <td>2.4041</td>\n",
              "    </tr>\n",
              "    <tr>\n",
              "      <th>4</th>\n",
              "      <td>3123.938</td>\n",
              "      <td>2.3952</td>\n",
              "    </tr>\n",
              "    <tr>\n",
              "      <th>...</th>\n",
              "      <td>...</td>\n",
              "      <td>...</td>\n",
              "    </tr>\n",
              "    <tr>\n",
              "      <th>6616</th>\n",
              "      <td>3950.438</td>\n",
              "      <td>2.1311</td>\n",
              "    </tr>\n",
              "    <tr>\n",
              "      <th>6617</th>\n",
              "      <td>3950.563</td>\n",
              "      <td>2.1306</td>\n",
              "    </tr>\n",
              "    <tr>\n",
              "      <th>6618</th>\n",
              "      <td>3950.688</td>\n",
              "      <td>2.1306</td>\n",
              "    </tr>\n",
              "    <tr>\n",
              "      <th>6619</th>\n",
              "      <td>3950.813</td>\n",
              "      <td>2.1293</td>\n",
              "    </tr>\n",
              "    <tr>\n",
              "      <th>6620</th>\n",
              "      <td>3950.938</td>\n",
              "      <td>2.1301</td>\n",
              "    </tr>\n",
              "  </tbody>\n",
              "</table>\n",
              "<p>6621 rows × 2 columns</p>\n",
              "</div>"
            ],
            "text/plain": [
              "         Depth    RHOB\n",
              "0     3123.438  2.3994\n",
              "1     3123.563  2.3916\n",
              "2     3123.688  2.4017\n",
              "3     3123.813  2.4041\n",
              "4     3123.938  2.3952\n",
              "...        ...     ...\n",
              "6616  3950.438  2.1311\n",
              "6617  3950.563  2.1306\n",
              "6618  3950.688  2.1306\n",
              "6619  3950.813  2.1293\n",
              "6620  3950.938  2.1301\n",
              "\n",
              "[6621 rows x 2 columns]"
            ]
          },
          "metadata": {
            "tags": []
          },
          "execution_count": 14
        }
      ]
    },
    {
      "cell_type": "markdown",
      "metadata": {
        "id": "Mu0q_BQx0OOR",
        "colab_type": "text"
      },
      "source": [
        "### Data Interpolation\n",
        "\n",
        "Water column is 380 m (Norne Field wikipedia)\n",
        "\n",
        "Density interpolated to depth 0 to 350 m with rho water 1 g/cc and from seabed at depth 350 m to the density value at depth of first recorded. "
      ]
    },
    {
      "cell_type": "code",
      "metadata": {
        "id": "OHWFEhfYxi3X",
        "colab_type": "code",
        "outputId": "f6e56fb5-45d7-4a72-e78d-af9f14fa4a3f",
        "colab": {
          "base_uri": "https://localhost:8080/",
          "height": 404
        }
      },
      "source": [
        "# create average density (dummy) value from the sea surface (z = 0) to seabed \n",
        "depth_seabed = np.arange(0, 370, 10) # depth to seabed 350 m\n",
        "rho_seabed = np.full(len(depth_seabed), 1) # create numpy array of constant water density values 1 g/cc\n",
        "\n",
        "# depth from seabed to first recorded depth\n",
        "depth_first_recorded = df.Depth[0]\n",
        "\n",
        "depth_surface = np.linspace(360, depth_first_recorded, 100) \n",
        "d1 = 360; d2 = depth_first_recorded\n",
        "rho1 = 1; rho2 = df.RHOB[0]\n",
        "\n",
        "# interpolation function to connect from seabed to first recorded depth: rho = (((rho2 - rho1) * (depth - 1000)) + 1) / (d2 - d1)\n",
        "rho_surface = (((rho2 - rho1) * (depth_surface - d1)) / (d2 - d1)) + 1\n",
        "\n",
        "# append data\n",
        "depth_dummy = np.append(depth_seabed, depth_surface)\n",
        "rhob_dummy = np.append(rho_seabed, rho_surface)\n",
        "df_dummy = pd.DataFrame({\"Depth\": depth_dummy, \"RHOB\": rhob_dummy})\n",
        "\n",
        "df_new = df_dummy.append(df, ignore_index = True)\n",
        "df_new"
      ],
      "execution_count": 15,
      "outputs": [
        {
          "output_type": "execute_result",
          "data": {
            "text/html": [
              "<div>\n",
              "<style scoped>\n",
              "    .dataframe tbody tr th:only-of-type {\n",
              "        vertical-align: middle;\n",
              "    }\n",
              "\n",
              "    .dataframe tbody tr th {\n",
              "        vertical-align: top;\n",
              "    }\n",
              "\n",
              "    .dataframe thead th {\n",
              "        text-align: right;\n",
              "    }\n",
              "</style>\n",
              "<table border=\"1\" class=\"dataframe\">\n",
              "  <thead>\n",
              "    <tr style=\"text-align: right;\">\n",
              "      <th></th>\n",
              "      <th>Depth</th>\n",
              "      <th>RHOB</th>\n",
              "    </tr>\n",
              "  </thead>\n",
              "  <tbody>\n",
              "    <tr>\n",
              "      <th>0</th>\n",
              "      <td>0.000</td>\n",
              "      <td>1.0000</td>\n",
              "    </tr>\n",
              "    <tr>\n",
              "      <th>1</th>\n",
              "      <td>10.000</td>\n",
              "      <td>1.0000</td>\n",
              "    </tr>\n",
              "    <tr>\n",
              "      <th>2</th>\n",
              "      <td>20.000</td>\n",
              "      <td>1.0000</td>\n",
              "    </tr>\n",
              "    <tr>\n",
              "      <th>3</th>\n",
              "      <td>30.000</td>\n",
              "      <td>1.0000</td>\n",
              "    </tr>\n",
              "    <tr>\n",
              "      <th>4</th>\n",
              "      <td>40.000</td>\n",
              "      <td>1.0000</td>\n",
              "    </tr>\n",
              "    <tr>\n",
              "      <th>...</th>\n",
              "      <td>...</td>\n",
              "      <td>...</td>\n",
              "    </tr>\n",
              "    <tr>\n",
              "      <th>6753</th>\n",
              "      <td>3950.438</td>\n",
              "      <td>2.1311</td>\n",
              "    </tr>\n",
              "    <tr>\n",
              "      <th>6754</th>\n",
              "      <td>3950.563</td>\n",
              "      <td>2.1306</td>\n",
              "    </tr>\n",
              "    <tr>\n",
              "      <th>6755</th>\n",
              "      <td>3950.688</td>\n",
              "      <td>2.1306</td>\n",
              "    </tr>\n",
              "    <tr>\n",
              "      <th>6756</th>\n",
              "      <td>3950.813</td>\n",
              "      <td>2.1293</td>\n",
              "    </tr>\n",
              "    <tr>\n",
              "      <th>6757</th>\n",
              "      <td>3950.938</td>\n",
              "      <td>2.1301</td>\n",
              "    </tr>\n",
              "  </tbody>\n",
              "</table>\n",
              "<p>6758 rows × 2 columns</p>\n",
              "</div>"
            ],
            "text/plain": [
              "         Depth    RHOB\n",
              "0        0.000  1.0000\n",
              "1       10.000  1.0000\n",
              "2       20.000  1.0000\n",
              "3       30.000  1.0000\n",
              "4       40.000  1.0000\n",
              "...        ...     ...\n",
              "6753  3950.438  2.1311\n",
              "6754  3950.563  2.1306\n",
              "6755  3950.688  2.1306\n",
              "6756  3950.813  2.1293\n",
              "6757  3950.938  2.1301\n",
              "\n",
              "[6758 rows x 2 columns]"
            ]
          },
          "metadata": {
            "tags": []
          },
          "execution_count": 15
        }
      ]
    },
    {
      "cell_type": "markdown",
      "metadata": {
        "id": "7ElXtgVs5crA",
        "colab_type": "text"
      },
      "source": [
        "### Visualize Data after Preproc"
      ]
    },
    {
      "cell_type": "code",
      "metadata": {
        "id": "7PFBYWl-5fpU",
        "colab_type": "code",
        "outputId": "8eda51af-8d93-4c5e-c968-64c93903a5dd",
        "colab": {
          "base_uri": "https://localhost:8080/",
          "height": 622
        }
      },
      "source": [
        "print(\"Data\", data_view, \"of well:\", find)\n",
        "\n",
        "plt.figure(figsize=(5,10))\n",
        "plt.plot(df_new.RHOB, df_new.Depth)\n",
        "plt.xlabel(data_view); plt.ylabel(\"Depth (m)\")\n",
        "plt.grid(True)\n",
        "plt.gca().invert_yaxis()"
      ],
      "execution_count": 16,
      "outputs": [
        {
          "output_type": "stream",
          "text": [
            "Data RHOB of well: B1BH\n"
          ],
          "name": "stdout"
        },
        {
          "output_type": "display_data",
          "data": {
            "image/png": "[encoded data removed]",
            "text/plain": [
              "<Figure size 360x720 with 1 Axes>"
            ]
          },
          "metadata": {
            "tags": []
          }
        }
      ]
    },
    {
      "cell_type": "markdown",
      "metadata": {
        "id": "mwRjHzi67E_N",
        "colab_type": "text"
      },
      "source": [
        "## Overburden Stress Calculation\n",
        "\n",
        "### It will calculate and save into individual well only, so in the code `sv...` below give index that matches with the current index of `wellnames[...]`. For example well `B1BH` with `wellnames[0]`, Sv is `sv0`; well `K3H` with `wellnames[45]`, so Sv is `sv45`. "
      ]
    },
    {
      "cell_type": "code",
      "metadata": {
        "id": "V6zFFBJA7IzR",
        "colab_type": "code",
        "colab": {}
      },
      "source": [
        "# convert panda to numpy\n",
        "depth_np = np.array(df_new.Depth)\n",
        "rhob_np = np.array(df_new.RHOB)\n",
        "rhob_np_conv = rhob_np * 1E+03 # convert g/cm3 to kg/m3\n",
        "\n",
        "thickness = np.array([j-i for i, j in zip(depth_np[:-1], depth_np[1:])])\n",
        "thickness = np.append([(min(depth_np) - 0)], thickness)\n",
        "\n",
        "# multiply rhob by thickness\n",
        "rhogz = rhob_np_conv * thickness * 9.8 # rhob already in kg/m3 * thickness m2, result in Pa\n",
        "rhogz = rhogz * 0.000145038 # convert Pa to psi\n",
        "\n",
        "\"cumulative sum, calculate Sv, here you must CHANGE the index of sv: sv0, sv1, ..., sv45\"\n",
        "sv0 = np.cumsum(rhogz)"
      ],
      "execution_count": 0,
      "outputs": []
    },
    {
      "cell_type": "code",
      "metadata": {
        "id": "yxiuU9KSXUex",
        "colab_type": "code",
        "outputId": "27da9a8b-924b-4442-ebaf-e0701971bfcb",
        "colab": {
          "base_uri": "https://localhost:8080/",
          "height": 627
        }
      },
      "source": [
        "print(\"Calculated vertical stress of well:\", find)\n",
        "\n",
        "plt.figure(figsize=(5,10))\n",
        "plt.plot(sv0, depth_np)\n",
        "plt.xlabel(\"Sv\"); plt.ylabel(\"Depth (m)\")\n",
        "plt.xlim(xmin=0); plt.ylim(ymin=0)\n",
        "plt.grid(True)\n",
        "plt.gca().invert_yaxis()"
      ],
      "execution_count": 18,
      "outputs": [
        {
          "output_type": "stream",
          "text": [
            "Calculated vertical stress of well: B1BH\n"
          ],
          "name": "stdout"
        },
        {
          "output_type": "display_data",
          "data": {
            "image/png": "[encoded data removed]",
            "text/plain": [
              "<Figure size 360x720 with 1 Axes>"
            ]
          },
          "metadata": {
            "tags": []
          }
        }
      ]
    }
  ]
}